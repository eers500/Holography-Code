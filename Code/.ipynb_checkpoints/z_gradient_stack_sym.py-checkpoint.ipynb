{
 "cells": [
  {
   "cell_type": "code",
   "execution_count": 3,
   "metadata": {},
   "outputs": [],
   "source": [
    "from sympy import *"
   ]
  },
  {
   "cell_type": "code",
   "execution_count": 4,
   "metadata": {},
   "outputs": [],
   "source": [
    "r, z, pi, k = symbols('r z pi k')"
   ]
  },
  {
   "cell_type": "code",
   "execution_count": 5,
   "metadata": {},
   "outputs": [],
   "source": [
    "hh = exp(1j*k*(r**2+z**2)**(1/2))/(r**2+z**2)**(1/2)"
   ]
  },
  {
   "cell_type": "code",
   "execution_count": 6,
   "metadata": {},
   "outputs": [],
   "source": [
    "h = 1/(2*pi)*diff(hh, z)"
   ]
  },
  {
   "cell_type": "code",
   "execution_count": 7,
   "metadata": {},
   "outputs": [
    {
     "data": {
      "text/latex": [
       "$\\displaystyle \\frac{\\frac{1.0 i k z e^{1.0 i k \\left(r^{2} + z^{2}\\right)^{0.5}}}{\\left(r^{2} + z^{2}\\right)^{1.0}} - \\frac{1.0 z e^{1.0 i k \\left(r^{2} + z^{2}\\right)^{0.5}}}{\\left(r^{2} + z^{2}\\right)^{1.5}}}{2 \\pi}$"
      ],
      "text/plain": [
       "(1.0*I*k*z*(r**2 + z**2)**(-1.0)*exp(1.0*I*k*(r**2 + z**2)**0.5) - 1.0*z*(r**2 + z**2)**(-1.5)*exp(1.0*I*k*(r**2 + z**2)**0.5))/(2*pi)"
      ]
     },
     "execution_count": 7,
     "metadata": {},
     "output_type": "execute_result"
    }
   ],
   "source": [
    "h"
   ]
  },
  {
   "cell_type": "code",
   "execution_count": 8,
   "metadata": {},
   "outputs": [
    {
     "data": {
      "text/latex": [
       "$\\displaystyle \\frac{0.5 z \\left(i k \\left(r^{2} + z^{2}\\right)^{1.5} - \\left(r^{2} + z^{2}\\right)^{1.0}\\right) e^{1.0 i k \\left(r^{2} + z^{2}\\right)^{0.5}}}{\\pi \\left(r^{2} + z^{2}\\right)^{2.5}}$"
      ],
      "text/plain": [
       "0.5*z*(r**2 + z**2)**(-2.5)*(I*k*(r**2 + z**2)**1.5 - (r**2 + z**2)**1.0)*exp(1.0*I*k*(r**2 + z**2)**0.5)/pi"
      ]
     },
     "execution_count": 8,
     "metadata": {},
     "output_type": "execute_result"
    }
   ],
   "source": [
    "simplify(h)"
   ]
  },
  {
   "cell_type": "code",
   "execution_count": null,
   "metadata": {},
   "outputs": [],
   "source": []
  }
 ],
 "metadata": {
  "kernelspec": {
   "display_name": "Python 3",
   "language": "python",
   "name": "python3"
  },
  "language_info": {
   "codemirror_mode": {
    "name": "ipython",
    "version": 3
   },
   "file_extension": ".py",
   "mimetype": "text/x-python",
   "name": "python",
   "nbconvert_exporter": "python",
   "pygments_lexer": "ipython3",
   "version": "3.9.7"
  }
 },
 "nbformat": 4,
 "nbformat_minor": 2
}
