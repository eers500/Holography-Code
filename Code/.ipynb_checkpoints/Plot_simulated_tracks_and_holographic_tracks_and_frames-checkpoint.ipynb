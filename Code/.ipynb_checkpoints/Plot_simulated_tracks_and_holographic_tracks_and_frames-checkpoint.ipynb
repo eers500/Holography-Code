{
 "cells": [
  {
   "cell_type": "code",
   "execution_count": null,
   "metadata": {},
   "outputs": [],
   "source": [
    "import numpy as np\n",
    "import pandas as pd\n",
    "import easygui as gui\n",
    "import os\n",
    "import plotly.express as px\n",
    "import plotly\n",
    "from plotly.offline import plot, iplot\n",
    "plotly.offline.init_notebook_mode()"
   ]
  },
  {
   "cell_type": "markdown",
   "metadata": {},
   "source": [
    "# Holographic cell tracks and frames"
   ]
  },
  {
   "cell_type": "code",
   "execution_count": null,
   "metadata": {},
   "outputs": [],
   "source": [
    "# HXBM tracks (control - no blue light)\n",
    "# from Nat Comms paper\n",
    "path = '/media/erick/NuevoVol/LINUX_LAP/PhD/Holographic cell tracks and frames/HXBM tracks (control - no blue light)/'\n",
    "\n",
    "# 40x_Bdello_swimmers \n",
    "# from LW 2020-09-25\\40x_100Hz_1\n",
    "#path = '/media/erick/NuevoVol/LINUX_LAP/PhD/Holographic cell tracks and frames/40x_Bdello_swimmers/'\n",
    "\n",
    "all_files = os.listdir(path)\n",
    "files = filter(lambda x: x[-4:] == '.txt', all_files)\n",
    "\n",
    "tracks = pd.DataFrame(data=np.zeros((1, 8)), columns=['t', 'X', 'Y', 'Z', 'xx', 'yy', 'zz', 'PARTICLE'])\n",
    "for file in files:\n",
    "    t = pd.read_table(path+file, header=None)\n",
    "    t.columns = ['t', 'X', 'Y', 'Z', 'xx', 'yy', 'zz']\n",
    "    t['PARTICLE'] = [file] * len(t)\n",
    "    tracks = pd.concat([tracks, t])\n",
    "    \n",
    "tracks = tracks[1:]\n",
    "tracks = tracks.reset_index()\n",
    "tracks = tracks.drop(columns='index')\n",
    "\n",
    "fig = px.line_3d(tracks, x='X', y='Y', z='Z', color='PARTICLE', labels='PARTICLE')\n",
    "fig.update_traces(marker=dict(size=1))\n",
    "#plot(fig)\n",
    "iplot(fig)"
   ]
  },
  {
   "cell_type": "markdown",
   "metadata": {},
   "source": [
    "# Simulated tracks"
   ]
  },
  {
   "cell_type": "code",
   "execution_count": null,
   "metadata": {},
   "outputs": [],
   "source": [
    "# Set 1 - E. coli-like\n",
    "#path = '/media/erick/NuevoVol/LINUX_LAP/PhD/Simulation data/Simulated tracks/Set 1/'\n",
    "\n",
    "# Set 2 - E.coli-like with no tumbles\n",
    "#path = '/media/erick/NuevoVol/LINUX_LAP/PhD/Simulation data/Simulated tracks/Set 2/'\n",
    "\n",
    "# Set 3 - Archea-like\n",
    "#path = '/media/erick/NuevoVol/LINUX_LAP/PhD/Simulation data/Simulated tracks/Set 3/'\n",
    "\n",
    "# Set 4 - Archea-like with no tumbles\n",
    "path = '/media/erick/NuevoVol/LINUX_LAP/PhD/Simulation data/Simulated tracks/Set 4/'\n",
    "\n",
    "all_files = os.listdir(path)\n",
    "files = filter(lambda x: x[-4:] == '.txt', all_files)\n",
    "\n",
    "tracks = pd.DataFrame(data=np.zeros((1, 10)), columns=['t', 'X', 'Y', 'Z', 'xx', 'yy', 'zz', 'gg', 'hh', 'PARTICLE'])\n",
    "for file in files:\n",
    "    t = pd.read_table(path+file, header=None)\n",
    "    t.columns = ['t', 'X', 'Y', 'Z', 'xx', 'yy', 'zz', 'gg', 'hh']\n",
    "    t['PARTICLE'] = [file] * len(t)\n",
    "    tracks = pd.concat([tracks, t])\n",
    "    \n",
    "tracks = tracks[1:]\n",
    "tracks = tracks.reset_index()\n",
    "tracks = tracks.drop(columns='index')\n",
    "\n",
    "fig = px.line_3d(tracks, x='X', y='Y', z='Z', color='PARTICLE', labels='PARTICLE')\n",
    "fig.update_traces(mode='markers',\n",
    "                  marker=dict(size=0.5))\n",
    "#plot(fig)\n",
    "iplot(fig)"
   ]
  }
 ],
 "metadata": {
  "kernelspec": {
   "display_name": "Python 3.7.6 64-bit ('anaconda3': virtualenv)",
   "language": "python",
   "name": "python37664bitanaconda3virtualenv2dd5cbc386034cf982a18c7c973e5f38"
  },
  "language_info": {
   "codemirror_mode": {
    "name": "ipython",
    "version": 3
   },
   "file_extension": ".py",
   "mimetype": "text/x-python",
   "name": "python",
   "nbconvert_exporter": "python",
   "pygments_lexer": "ipython3",
   "version": "3.7.9"
  }
 },
 "nbformat": 4,
 "nbformat_minor": 4
}
