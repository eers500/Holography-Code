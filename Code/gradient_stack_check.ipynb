{
 "cells": [
  {
   "cell_type": "code",
   "execution_count": 6,
   "metadata": {},
   "outputs": [],
   "source": [
    "import numpy as np\n",
    "import matplotlib.pyplot as plt\n",
    "import matplotlib.image as mpimg\n",
    "import functions as f\n",
    "import easygui as gui\n",
    "import ipywidgets as widgets\n",
    "from skimage.feature import peak_local_max\n",
    "from scipy import ndimage\n",
    "get_ipython().run_line_magic('matplotlib', 'qt')\n",
    "#%matplotlib widget\n",
    "\n",
    "files = gui.fileopenbox(default='/media/erick/NuevoVol/LINUX_LAP/PhD/', multiple=True)\n",
    "\n",
    "path = [[],[]]\n",
    "if files[0].find('MED') != -1:\n",
    "    path[0] = files[1]\n",
    "    path[1] = files[0]\n",
    "else:\n",
    "    path = files\n",
    "\n",
    "\n",
    "I =mpimg.imread(path[0]) \n",
    "I_MEDIAN = mpimg.imread(path[1])\n",
    "#I_MEDIAN = np.ones((np.shape(I)[0], np.shape(I)[1]))\n",
    "\n",
    "N = 1.3226\n",
    "LAMBDA = 0.642               # Diode\n",
    "MPP = 20                      # Magnification: 10x, 20x, 50x, etc\n",
    "FS = 0.711*(MPP/10)                     # Sampling Frequency px/um\n",
    "NI = np.shape(I)[0]\n",
    "NJ = np.shape(I)[1]\n",
    "SZ = 2.5                       # Step size in um\n",
    "NUMSTEPS = 50\n",
    "\n",
    "RS = f.rayleighSommerfeldPropagator(I, I_MEDIAN, N, LAMBDA, FS, SZ, NUMSTEPS, True, True)\n",
    "GS = f.zGradientStack(RS)"
   ]
  },
  {
   "cell_type": "code",
   "execution_count": 7,
   "metadata": {
    "scrolled": true
   },
   "outputs": [
    {
     "data": {
      "application/vnd.jupyter.widget-view+json": {
       "model_id": "3897a81dee5a47a4b18f289c38863b79",
       "version_major": 2,
       "version_minor": 0
      },
      "text/plain": [
       "interactive(children=(FloatSlider(value=0.1, description='threshold', max=0.5, step=0.05), IntSlider(value=30,…"
      ]
     },
     "metadata": {},
     "output_type": "display_data"
    }
   ],
   "source": [
    "# set up plot\n",
    "fig, ax = plt.subplots(figsize=(6, 4)) \n",
    " \n",
    " \n",
    "@widgets.interact(threshold=(0, 0.5, 0.05), peak_min_dist=(0, 50, 5), show_scatter = False)\n",
    "def update(threshold=0.1, peak_min_dist=30, show_scatter=True):\n",
    "    GSS = np.copy(GS)\n",
    "    GSS[GS < threshold] = 0\n",
    "    ZP = np.max(GSS, axis=-1)\n",
    "    PKS = peak_local_max(ZP, min_distance=peak_min_dist)\n",
    "    ax.clear()\n",
    "    ax.imshow(ZP, cmap='gray')\n",
    "    if show_scatter==True:\n",
    "        ax.scatter(PKS[:,1], PKS[:,0], marker='o', facecolors='none', s=80, edgecolors='r')\n"
   ]
  },
  {
   "cell_type": "code",
   "execution_count": null,
   "metadata": {},
   "outputs": [],
   "source": []
  }
 ],
 "metadata": {
  "interpreter": {
   "hash": "88a2286df253650327a6124dbee93aa2083269da6bd3bc65348e4014d968596c"
  },
  "kernelspec": {
   "display_name": "Python 3",
   "language": "python",
   "name": "python3"
  },
  "language_info": {
   "codemirror_mode": {
    "name": "ipython",
    "version": 3
   },
   "file_extension": ".py",
   "mimetype": "text/x-python",
   "name": "python",
   "nbconvert_exporter": "python",
   "pygments_lexer": "ipython3",
   "version": "3.7.7"
  }
 },
 "nbformat": 4,
 "nbformat_minor": 4
}
