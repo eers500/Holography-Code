{
 "cells": [
  {
   "cell_type": "code",
   "execution_count": 9,
   "metadata": {
    "tags": []
   },
   "outputs": [
    {
     "name": "stdout",
     "output_type": "stream",
     "text": [
      "Using matplotlib backend: Qt5Agg\n"
     ]
    }
   ],
   "source": [
    "import numpy as np\n",
    "import matplotlib.pyplot as plt\n",
    "import matplotlib.image as mpimg\n",
    "import functions as f\n",
    "import easygui as gui\n",
    "import ipywidgets as widgets\n",
    "from skimage.feature import peak_local_max\n",
    "from scipy import ndimage\n",
    "%matplotlib auto\n",
    "#%matplotlib widget\n",
    "\n",
    "files = gui.fileopenbox(default='/media/erick/NuevoVol/LINUX_LAP/PhD/', multiple=True)\n",
    "\n",
    "path = [[],[]]\n",
    "if files[0].find('MED') != -1:\n",
    "    path[0] = files[1]\n",
    "    path[1] = files[0]\n",
    "else:\n",
    "    path = files\n",
    "\n",
    "\n",
    "I =mpimg.imread(path[0]) \n",
    "I_MEDIAN = mpimg.imread(path[1])\n",
    "\n",
    "N = 1.3226\n",
    "LAMBDA = 0.642               # Diode\n",
    "#MPP = 20                      # Magnification: 10x, 20x, 50x, etc\n",
    "FS = 0.711                     # Sampling Frequency px/um\n",
    "NI = np.shape(I)[0]\n",
    "NJ = np.shape(I)[1]\n",
    "SZ = 10                       # Step size in um\n",
    "# Z = (FS*(51/31))*np.arange(0, 150)       # Number of steps\n",
    "Z = SZ*np.arange(0, 150)\n",
    "# ZZ = np.linspace(0, SZ*149, 150)\n",
    "# Z = FS*ZZ\n",
    "K = 2*np.pi*N/LAMBDA            # Wavenumber\n",
    "NUMSTEPS = 150\n",
    "\n",
    "RS = f.rayleighSommerfeldPropagator(I, I_MEDIAN, N, LAMBDA, FS, SZ, NUMSTEPS).astype('float32')\n"
   ]
  },
  {
   "cell_type": "code",
   "execution_count": 10,
   "metadata": {},
   "outputs": [],
   "source": [
    "# Sobel-type kernel\n",
    "SZ0 = np.array(([-1, -2, -1], [-2, -4, -2], [-1, -2, -1]), dtype='float')\n",
    "SZ1 = np.zeros_like(SZ0)\n",
    "SZ2 = -SZ0\n",
    "SZ = np.stack((SZ0, SZ1, SZ2), axis=-1)"
   ]
  },
  {
   "cell_type": "code",
   "execution_count": 11,
   "metadata": {},
   "outputs": [],
   "source": [
    "# Convolution IM*SZ\n",
    "IMM = np.dstack((RS[:, :, 0][:, :, np.newaxis], RS, RS[:, :, -1][:, :, np.newaxis]))\n",
    "GS = ndimage.convolve(RS, SZ, mode='mirror')\n",
    "GS = np.delete(GS, [0, np.shape(GS)[2]-1], axis=2)\n"
   ]
  },
  {
   "cell_type": "code",
   "execution_count": 12,
   "metadata": {
    "scrolled": true
   },
   "outputs": [
    {
     "data": {
      "application/vnd.jupyter.widget-view+json": {
       "model_id": "feb3f3f0b2774d5082beaa55989bc72d",
       "version_major": 2,
       "version_minor": 0
      },
      "text/plain": [
       "interactive(children=(FloatSlider(value=0.1, description='threshold', max=0.5, step=0.05), IntSlider(value=30,…"
      ]
     },
     "metadata": {},
     "output_type": "display_data"
    }
   ],
   "source": [
    "# set up plot\n",
    "fig, ax = plt.subplots(figsize=(6, 4)) \n",
    " \n",
    " \n",
    "@widgets.interact(threshold=(0, 0.5, 0.05), peak_min_dist=(0, 50, 5), show_scatter = False)\n",
    "def update(threshold=0.1, peak_min_dist=30, show_scatter=True):\n",
    "    GSS = np.copy(GS)\n",
    "    GSS[GS < threshold] = 0\n",
    "    ZP = np.max(GSS, axis=-1)\n",
    "    PKS = peak_local_max(ZP, min_distance=peak_min_dist)\n",
    "    ax.clear()\n",
    "    ax.imshow(ZP, cmap='gray')\n",
    "    if show_scatter==True:\n",
    "        ax.scatter(PKS[:,1], PKS[:,0], marker='o', facecolors='none', s=80, edgecolors='r')\n"
   ]
  },
  {
   "cell_type": "code",
   "execution_count": null,
   "metadata": {},
   "outputs": [],
   "source": []
  }
 ],
 "metadata": {
  "kernelspec": {
   "display_name": "Python 3.7.6 64-bit ('anaconda3': virtualenv)",
   "language": "python",
   "name": "python37664bitanaconda3virtualenv2dd5cbc386034cf982a18c7c973e5f38"
  },
  "language_info": {
   "codemirror_mode": {
    "name": "ipython",
    "version": 3
   },
   "file_extension": ".py",
   "mimetype": "text/x-python",
   "name": "python",
   "nbconvert_exporter": "python",
   "pygments_lexer": "ipython3",
   "version": "3.7.9"
  }
 },
 "nbformat": 4,
 "nbformat_minor": 4
}
