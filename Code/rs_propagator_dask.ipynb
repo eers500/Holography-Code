{
 "cells": [
  {
   "cell_type": "code",
   "execution_count": null,
   "metadata": {},
   "outputs": [],
   "source": [
    "import math as m\n",
    "import time\n",
    "import matplotlib.image as mpimg\n",
    "import numpy as np\n",
    "from functions import bandpassFilter, exportAVI\n",
    "\n",
    "T0 = time.time()\n",
    "# I = mpimg.imread('131118-1.png')\n",
    "I = mpimg.imread('MF1_30Hz_200us_awaysection.png')\n",
    "#I = mpimg.imread('10x_laser_50Hz_10us_g1036_bl1602-003.png')\n",
    "#I = mpimg.imread('23-09-19_ECOLI_HCB1_100Hz_45us_10x_7.png')\n",
    "\n",
    "\n",
    "#%%\n",
    "# Median image\n",
    "# IB = mpimg.imread('AVG_131118-1.png')\n",
    "IB = mpimg.imread('AVG_MF1_30Hz_200us_awaysection.png')\n",
    "# IB = mpimg.imread('MED_10x_laser_50Hz_10us_g1036_bl1602-003-1.png')\n",
    "#IB = mpimg.imread('MED_23-09-19_ECOLI_HCB1_100Hz_45us_10x_7-1.png')\n",
    "\n",
    "IB[IB == 0] = np.mean(IB)\n",
    "IN = I/IB   #divide\n",
    "\n",
    "N = 1.3226\n",
    "LAMBDA = 0.642               # Diode\n",
    "# MPP = 2                      # Magnification: 10x, 20x, 50x, etc\n",
    "FS = 0.711                     # Sampling Frequency px/um\n",
    "NI = np.shape(IN)[0]\n",
    "NJ = np.shape(IN)[1]\n",
    "SZ = 4                        # Step size in um\n",
    "Z = SZ*np.arange(0, 150)       # Number of steps\n",
    "K = 2*m.pi*N/LAMBDA            # Wavenumber"
   ]
  },
  {
   "cell_type": "code",
   "execution_count": null,
   "metadata": {},
   "outputs": [],
   "source": [
    "%%time\n",
    "IBAND, BP = bandpassFilter(IN, 2, 30)\n",
    "E = np.fft.fftshift(BP)*np.fft.fftshift(np.fft.fft2(IN - 1))"
   ]
  },
  {
   "cell_type": "code",
   "execution_count": null,
   "metadata": {},
   "outputs": [],
   "source": [
    "%%time\n",
    "P = np.empty_like(IB, dtype=complex)\n",
    "for i in range(NI):\n",
    "    for j in range(NJ):\n",
    "        P[i, j] = ((LAMBDA*FS)/(max([NI, NJ])*N))**2*((i-NI/2)**2+(j-NJ/2)**2)\n",
    "# P = np.conj(P)\n",
    "Q = np.sqrt(1-P)-1"
   ]
  },
  {
   "cell_type": "code",
   "execution_count": null,
   "metadata": {},
   "outputs": [],
   "source": [
    "%%time\n",
    "if all(Z > 0):\n",
    "    Q = np.conj(Q)"
   ]
  },
  {
   "cell_type": "code",
   "execution_count": null,
   "metadata": {},
   "outputs": [],
   "source": [
    "%%time\n",
    "#R = np.empty([NI, NJ, Z.shape[0]], dtype=complex)\n",
    "IZ = np.empty([NI, NJ, Z.shape[0]], dtype=float)\n",
    "\n",
    "for k in range(Z.shape[0]):\n",
    "    #R = np.exp((-1j*K*Z[k]*Q))\n",
    "    IZ[:, :, k] = np.real(1 + np.fft.ifft2(np.fft.ifftshift(E*np.exp((-1j*K*Z[k]*Q)))))"
   ]
  },
  {
   "cell_type": "code",
   "execution_count": null,
   "metadata": {},
   "outputs": [],
   "source": [
    "%%time\n",
    "#R = np.empty([NI, NJ, Z.shape[0]])\n",
    "#IZ = np.empty([NI, NJ, Z.shape[0]], dtype=float)\n",
    "#R = []\n",
    "IZ = []\n",
    "\n",
    "#def prop(Z, K, Q):\n",
    " #   return np.exp((-1j*K*Z*Q))\n",
    "\n",
    "def refocused(E, Z, K, Q):\n",
    "    return np.real(1 + np.fft.ifft2(np.fft.ifftshift(E*np.exp((-1j*K*Z*Q)))))\n",
    "\n",
    "\n",
    "#for z in Z:\n",
    "#    RR = delayed(prop)(z, K, Q)\n",
    "#    R.append(RR)\n",
    "\n",
    "for z in Z:\n",
    "    IZZ = delayed(refocused)(E, Z, K, Q)\n",
    "    I_Z = IZZ.compute()\n",
    "    IZ.append(IZZ)\n",
    "    \n"
   ]
  },
  {
   "cell_type": "code",
   "execution_count": null,
   "metadata": {},
   "outputs": [],
   "source": [
    "%%time\n",
    "np.shape(IZ)"
   ]
  },
  {
   "cell_type": "code",
   "execution_count": null,
   "metadata": {},
   "outputs": [],
   "source": [
    "plt.imshow(IZ[:, :, 50], cmap='gray')"
   ]
  },
  {
   "cell_type": "code",
   "execution_count": null,
   "metadata": {},
   "outputs": [],
   "source": [
    "cd /Users/erick/Documents/PhD/Holography-Code/Code/"
   ]
  },
  {
   "cell_type": "code",
   "execution_count": null,
   "metadata": {},
   "outputs": [],
   "source": [
    "np.shape(E)"
   ]
  },
  {
   "cell_type": "code",
   "execution_count": null,
   "metadata": {},
   "outputs": [],
   "source": [
    "R"
   ]
  },
  {
   "cell_type": "code",
   "execution_count": null,
   "metadata": {},
   "outputs": [],
   "source": []
  }
 ],
 "metadata": {
  "kernelspec": {
   "display_name": "Python 3",
   "language": "python",
   "name": "python3"
  },
  "language_info": {
   "codemirror_mode": {
    "name": "ipython",
    "version": 3
   },
   "file_extension": ".py",
   "mimetype": "text/x-python",
   "name": "python",
   "nbconvert_exporter": "python",
   "pygments_lexer": "ipython3",
   "version": "3.7.3"
  }
 },
 "nbformat": 4,
 "nbformat_minor": 2
}
