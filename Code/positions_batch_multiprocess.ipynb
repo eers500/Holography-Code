{
 "cells": [
  {
   "cell_type": "markdown",
   "id": "b3229979",
   "metadata": {},
   "source": [
    "# Holographic Coordinate Detection"
   ]
  },
  {
   "cell_type": "code",
   "execution_count": 1,
   "id": "7648590b",
   "metadata": {},
   "outputs": [],
   "source": [
    "import time\n",
    "import os\n",
    "import numpy as np\n",
    "import easygui\n",
    "import PySimpleGUI as sg\n",
    "import pandas as pd\n",
    "import matplotlib.pyplot as plt\n",
    "import functions as f\n",
    "import easygui as gui\n",
    "from multiprocessing import Pool, Process, freeze_support, set_start_method\n",
    "from multiprocessing import cpu_count\n",
    "from tqdm import tqdm\n"
   ]
  },
  {
   "cell_type": "code",
   "execution_count": 2,
   "id": "bf8587f9",
   "metadata": {},
   "outputs": [],
   "source": [
    "def positions_batch(TUPLE):\n",
    "    I = TUPLE[0]\n",
    "    I_MEDIAN = TUPLE[1]    \n",
    "    N = TUPLE[2]\n",
    "    LAMBDA = TUPLE[3]\n",
    "    MPP = TUPLE[4]\n",
    "    FS = (MPP/10)*0.711\n",
    "    SZ = TUPLE[5]\n",
    "    NUMSTEPS = TUPLE[6]\n",
    "    THRESHOLD = TUPLE[7]\n",
    "    \n",
    "    LOCS = np.empty((1, 3), dtype=object)\n",
    "    X, Y, Z, I_FS, I_GS = [], [] ,[], [], []\n",
    "    IM = f.rayleighSommerfeldPropagator(I, I_MEDIAN, N, LAMBDA, FS, SZ, NUMSTEPS, True).astype('float32')\n",
    "    GS = f.zGradientStack(IM).astype('float32')  \n",
    "    # GS = f.modified_propagator(I, I_MEDIAN, N, LAMBDA, FS, SZ, NUMSTEPS)  # Modified propagator\n",
    "    GS[GS < THRESHOLD] = 0\n",
    "    LOCS[0, 0] = f.positions3D(GS, peak_min_distance=60, num_particles='None', MPP=MPP)\n",
    "    A = LOCS[0, 0].astype('int')\n",
    "    LOCS[0, 1] = IM[A[:, 0], A[:, 1], A[:, 2]]\n",
    "    LOCS[0, 2] = GS[A[:, 0], A[:, 1], A[:, 2]]\n",
    "        \n",
    "    X.append(LOCS[0, 0][:, 0]*(1/FS))\n",
    "    Y.append(LOCS[0, 0][:, 1]*(1/FS))\n",
    "    Z.append(LOCS[0, 0][:, 2]*SZ)\n",
    "    I_FS.append(LOCS[0, 1])\n",
    "    I_GS.append(LOCS[0, 2])\n",
    "        \n",
    "    return [X, Y, Z, I_FS, I_GS]"
   ]
  },
  {
   "cell_type": "markdown",
   "id": "35d2a904",
   "metadata": {},
   "source": [
    "## Paths of videos to be analysed"
   ]
  },
  {
   "cell_type": "code",
   "execution_count": 3,
   "id": "902e0f62",
   "metadata": {},
   "outputs": [
    {
     "name": "stdout",
     "output_type": "stream",
     "text": [
      "File added\n"
     ]
    },
    {
     "data": {
      "text/plain": [
       "['/media/erick/NuevoVol/LINUX_LAP/PhD/Colloids/20x_50Hz_100us_642nm_colloids_2000frames.avi']"
      ]
     },
     "execution_count": 3,
     "metadata": {},
     "output_type": "execute_result"
    }
   ],
   "source": [
    "layout = [\n",
    "    [sg.Text('Select AVi File recording', \n",
    "             size=(35, 1)), \n",
    "             sg.In(default_text='Select a video'), \n",
    "             sg.FileBrowse(initial_folder='/media/erick/NuevoVol/LINUX_LAP/PhD/')],\n",
    "    [sg.Checkbox('Export as CSV', default=False)],\n",
    "    [sg.Button('Add File'), sg.Button('Done'), sg.Cancel()]\n",
    "]\n",
    "\n",
    "window = sg.Window('Holography video inputs', layout)\n",
    "\n",
    "PATH = []\n",
    "export = []\n",
    "while True:\n",
    "    event, values = window.Read()\n",
    "    if event == 'Cancel':\n",
    "        break\n",
    "    elif event == 'Done':\n",
    "        break\n",
    "    elif event == 'Add File':\n",
    "        print('File added')\n",
    "        PATH.append(values[0])\n",
    "        export.append(values[1])\n",
    "window.Close()\n",
    "\n",
    "PATH"
   ]
  },
  {
   "cell_type": "code",
   "execution_count": 4,
   "id": "e379f4f2",
   "metadata": {},
   "outputs": [
    {
     "data": {
      "text/plain": [
       "[True]"
      ]
     },
     "execution_count": 4,
     "metadata": {},
     "output_type": "execute_result"
    }
   ],
   "source": [
    "export"
   ]
  },
  {
   "cell_type": "markdown",
   "id": "c55beec4",
   "metadata": {},
   "source": [
    "## Parameters (should be of the same shape as PATH)"
   ]
  },
  {
   "cell_type": "code",
   "execution_count": 5,
   "id": "6ae60ada",
   "metadata": {},
   "outputs": [],
   "source": [
    "N = [1.3226]\n",
    "LAMBDA = [0.642]\n",
    "MPP = [20]\n",
    "SZ = [10]\n",
    "NUMSTEPS = [150]\n",
    "THRESHOLD = [0.1]\n",
    "PMD = [40]\n",
    "FRAME_RATE = [50]"
   ]
  },
  {
   "cell_type": "markdown",
   "id": "941c72be",
   "metadata": {},
   "source": [
    "### Coordinate detection"
   ]
  },
  {
   "cell_type": "code",
   "execution_count": 6,
   "id": "8e21f003",
   "metadata": {},
   "outputs": [
    {
     "name": "stderr",
     "output_type": "stream",
     "text": [
      "  3%|███▋                                                                                                                      | 60/2000 [03:56<2:07:15,  3.94s/it]\n"
     ]
    },
    {
     "ename": "KeyboardInterrupt",
     "evalue": "",
     "output_type": "error",
     "traceback": [
      "\u001b[0;31m---------------------------------------------------------------------------\u001b[0m",
      "\u001b[0;31mIndexError\u001b[0m                                Traceback (most recent call last)",
      "\u001b[0;32m~/anaconda3/lib/python3.7/multiprocessing/pool.py\u001b[0m in \u001b[0;36mnext\u001b[0;34m(self, timeout)\u001b[0m\n\u001b[1;32m    732\u001b[0m             \u001b[0;32mtry\u001b[0m\u001b[0;34m:\u001b[0m\u001b[0;34m\u001b[0m\u001b[0;34m\u001b[0m\u001b[0m\n\u001b[0;32m--> 733\u001b[0;31m                 \u001b[0mitem\u001b[0m \u001b[0;34m=\u001b[0m \u001b[0mself\u001b[0m\u001b[0;34m.\u001b[0m\u001b[0m_items\u001b[0m\u001b[0;34m.\u001b[0m\u001b[0mpopleft\u001b[0m\u001b[0;34m(\u001b[0m\u001b[0;34m)\u001b[0m\u001b[0;34m\u001b[0m\u001b[0;34m\u001b[0m\u001b[0m\n\u001b[0m\u001b[1;32m    734\u001b[0m             \u001b[0;32mexcept\u001b[0m \u001b[0mIndexError\u001b[0m\u001b[0;34m:\u001b[0m\u001b[0;34m\u001b[0m\u001b[0;34m\u001b[0m\u001b[0m\n",
      "\u001b[0;31mIndexError\u001b[0m: pop from an empty deque",
      "\nDuring handling of the above exception, another exception occurred:\n",
      "\u001b[0;31mKeyboardInterrupt\u001b[0m                         Traceback (most recent call last)",
      "\u001b[0;32m/tmp/ipykernel_7208/2607931228.py\u001b[0m in \u001b[0;36m<module>\u001b[0;34m\u001b[0m\n\u001b[1;32m     39\u001b[0m \u001b[0;31m#     T0 = time.time()\u001b[0m\u001b[0;34m\u001b[0m\u001b[0;34m\u001b[0m\u001b[0;34m\u001b[0m\u001b[0m\n\u001b[1;32m     40\u001b[0m     for _ in tqdm(pool.imap_unordered(positions_batch, zip(IT, MED, n, lam, mpp, sz, numsteps, threshold)), \n\u001b[0;32m---> 41\u001b[0;31m                   total=NUM_FRAMES):\n\u001b[0m\u001b[1;32m     42\u001b[0m         \u001b[0mresults\u001b[0m\u001b[0;34m.\u001b[0m\u001b[0mappend\u001b[0m\u001b[0;34m(\u001b[0m\u001b[0m_\u001b[0m\u001b[0;34m)\u001b[0m\u001b[0;34m\u001b[0m\u001b[0;34m\u001b[0m\u001b[0m\n\u001b[1;32m     43\u001b[0m \u001b[0;34m\u001b[0m\u001b[0m\n",
      "\u001b[0;32m~/anaconda3/lib/python3.7/site-packages/tqdm/std.py\u001b[0m in \u001b[0;36m__iter__\u001b[0;34m(self)\u001b[0m\n\u001b[1;32m   1178\u001b[0m \u001b[0;34m\u001b[0m\u001b[0m\n\u001b[1;32m   1179\u001b[0m         \u001b[0;32mtry\u001b[0m\u001b[0;34m:\u001b[0m\u001b[0;34m\u001b[0m\u001b[0;34m\u001b[0m\u001b[0m\n\u001b[0;32m-> 1180\u001b[0;31m             \u001b[0;32mfor\u001b[0m \u001b[0mobj\u001b[0m \u001b[0;32min\u001b[0m \u001b[0miterable\u001b[0m\u001b[0;34m:\u001b[0m\u001b[0;34m\u001b[0m\u001b[0;34m\u001b[0m\u001b[0m\n\u001b[0m\u001b[1;32m   1181\u001b[0m                 \u001b[0;32myield\u001b[0m \u001b[0mobj\u001b[0m\u001b[0;34m\u001b[0m\u001b[0;34m\u001b[0m\u001b[0m\n\u001b[1;32m   1182\u001b[0m                 \u001b[0;31m# Update and possibly print the progressbar.\u001b[0m\u001b[0;34m\u001b[0m\u001b[0;34m\u001b[0m\u001b[0;34m\u001b[0m\u001b[0m\n",
      "\u001b[0;32m~/anaconda3/lib/python3.7/multiprocessing/pool.py\u001b[0m in \u001b[0;36mnext\u001b[0;34m(self, timeout)\u001b[0m\n\u001b[1;32m    735\u001b[0m                 \u001b[0;32mif\u001b[0m \u001b[0mself\u001b[0m\u001b[0;34m.\u001b[0m\u001b[0m_index\u001b[0m \u001b[0;34m==\u001b[0m \u001b[0mself\u001b[0m\u001b[0;34m.\u001b[0m\u001b[0m_length\u001b[0m\u001b[0;34m:\u001b[0m\u001b[0;34m\u001b[0m\u001b[0;34m\u001b[0m\u001b[0m\n\u001b[1;32m    736\u001b[0m                     \u001b[0;32mraise\u001b[0m \u001b[0mStopIteration\u001b[0m \u001b[0;32mfrom\u001b[0m \u001b[0;32mNone\u001b[0m\u001b[0;34m\u001b[0m\u001b[0;34m\u001b[0m\u001b[0m\n\u001b[0;32m--> 737\u001b[0;31m                 \u001b[0mself\u001b[0m\u001b[0;34m.\u001b[0m\u001b[0m_cond\u001b[0m\u001b[0;34m.\u001b[0m\u001b[0mwait\u001b[0m\u001b[0;34m(\u001b[0m\u001b[0mtimeout\u001b[0m\u001b[0;34m)\u001b[0m\u001b[0;34m\u001b[0m\u001b[0;34m\u001b[0m\u001b[0m\n\u001b[0m\u001b[1;32m    738\u001b[0m                 \u001b[0;32mtry\u001b[0m\u001b[0;34m:\u001b[0m\u001b[0;34m\u001b[0m\u001b[0;34m\u001b[0m\u001b[0m\n\u001b[1;32m    739\u001b[0m                     \u001b[0mitem\u001b[0m \u001b[0;34m=\u001b[0m \u001b[0mself\u001b[0m\u001b[0;34m.\u001b[0m\u001b[0m_items\u001b[0m\u001b[0;34m.\u001b[0m\u001b[0mpopleft\u001b[0m\u001b[0;34m(\u001b[0m\u001b[0;34m)\u001b[0m\u001b[0;34m\u001b[0m\u001b[0;34m\u001b[0m\u001b[0m\n",
      "\u001b[0;32m~/anaconda3/lib/python3.7/threading.py\u001b[0m in \u001b[0;36mwait\u001b[0;34m(self, timeout)\u001b[0m\n\u001b[1;32m    294\u001b[0m         \u001b[0;32mtry\u001b[0m\u001b[0;34m:\u001b[0m    \u001b[0;31m# restore state no matter what (e.g., KeyboardInterrupt)\u001b[0m\u001b[0;34m\u001b[0m\u001b[0;34m\u001b[0m\u001b[0m\n\u001b[1;32m    295\u001b[0m             \u001b[0;32mif\u001b[0m \u001b[0mtimeout\u001b[0m \u001b[0;32mis\u001b[0m \u001b[0;32mNone\u001b[0m\u001b[0;34m:\u001b[0m\u001b[0;34m\u001b[0m\u001b[0;34m\u001b[0m\u001b[0m\n\u001b[0;32m--> 296\u001b[0;31m                 \u001b[0mwaiter\u001b[0m\u001b[0;34m.\u001b[0m\u001b[0macquire\u001b[0m\u001b[0;34m(\u001b[0m\u001b[0;34m)\u001b[0m\u001b[0;34m\u001b[0m\u001b[0;34m\u001b[0m\u001b[0m\n\u001b[0m\u001b[1;32m    297\u001b[0m                 \u001b[0mgotit\u001b[0m \u001b[0;34m=\u001b[0m \u001b[0;32mTrue\u001b[0m\u001b[0;34m\u001b[0m\u001b[0;34m\u001b[0m\u001b[0m\n\u001b[1;32m    298\u001b[0m             \u001b[0;32melse\u001b[0m\u001b[0;34m:\u001b[0m\u001b[0;34m\u001b[0m\u001b[0;34m\u001b[0m\u001b[0m\n",
      "\u001b[0;31mKeyboardInterrupt\u001b[0m: "
     ]
    },
    {
     "name": "stderr",
     "output_type": "stream",
     "text": [
      "Process ForkPoolWorker-2:\n",
      "Traceback (most recent call last):\n",
      "  File \"/home/erick/anaconda3/lib/python3.7/multiprocessing/process.py\", line 297, in _bootstrap\n",
      "    self.run()\n",
      "  File \"/home/erick/anaconda3/lib/python3.7/multiprocessing/process.py\", line 99, in run\n",
      "    self._target(*self._args, **self._kwargs)\n",
      "  File \"/home/erick/anaconda3/lib/python3.7/multiprocessing/pool.py\", line 121, in worker\n",
      "    result = (True, func(*args, **kwds))\n",
      "  File \"/tmp/ipykernel_7208/1931169414.py\", line 15, in positions_batch\n",
      "    GS = f.zGradientStack(IM).astype('float32')\n",
      "  File \"/home/erick/Documents/PhD/Holography-Code/Code/functions.py\", line 282, in zGradientStack\n",
      "    GS = np.delete(GS, [0, np.shape(GS)[2] - 1], axis=2)\n",
      "  File \"<__array_function__ internals>\", line 6, in delete\n",
      "  File \"/home/erick/anaconda3/lib/python3.7/site-packages/numpy/lib/function_base.py\", line 4555, in delete\n",
      "    new = arr[tuple(slobj)]\n",
      "KeyboardInterrupt\n",
      "Process ForkPoolWorker-4:\n",
      "Traceback (most recent call last):\n",
      "  File \"/home/erick/anaconda3/lib/python3.7/multiprocessing/process.py\", line 297, in _bootstrap\n",
      "    self.run()\n",
      "  File \"/home/erick/anaconda3/lib/python3.7/multiprocessing/process.py\", line 99, in run\n",
      "    self._target(*self._args, **self._kwargs)\n",
      "  File \"/home/erick/anaconda3/lib/python3.7/multiprocessing/pool.py\", line 121, in worker\n",
      "    result = (True, func(*args, **kwds))\n",
      "  File \"/tmp/ipykernel_7208/1931169414.py\", line 17, in positions_batch\n",
      "    GS[GS < THRESHOLD] = 0\n",
      "KeyboardInterrupt\n",
      "Process ForkPoolWorker-3:\n",
      "Traceback (most recent call last):\n",
      "  File \"/home/erick/anaconda3/lib/python3.7/multiprocessing/process.py\", line 297, in _bootstrap\n",
      "    self.run()\n",
      "  File \"/home/erick/anaconda3/lib/python3.7/multiprocessing/process.py\", line 99, in run\n",
      "    self._target(*self._args, **self._kwargs)\n",
      "  File \"/home/erick/anaconda3/lib/python3.7/multiprocessing/pool.py\", line 121, in worker\n",
      "    result = (True, func(*args, **kwds))\n",
      "  File \"/tmp/ipykernel_7208/1931169414.py\", line 15, in positions_batch\n",
      "    GS = f.zGradientStack(IM).astype('float32')\n",
      "  File \"/home/erick/Documents/PhD/Holography-Code/Code/functions.py\", line 281, in zGradientStack\n",
      "    GS = ndimage.convolve(IMM, SZ, mode='mirror')\n",
      "  File \"/home/erick/anaconda3/lib/python3.7/site-packages/scipy/ndimage/filters.py\", line 859, in convolve\n",
      "    origin, True)\n",
      "  File \"/home/erick/anaconda3/lib/python3.7/site-packages/scipy/ndimage/filters.py\", line 686, in _correlate_or_convolve\n",
      "    _nd_image.correlate(input, weights, output, mode, cval, origins)\n",
      "KeyboardInterrupt\n",
      "Process ForkPoolWorker-1:\n",
      "Traceback (most recent call last):\n",
      "  File \"/home/erick/anaconda3/lib/python3.7/multiprocessing/process.py\", line 297, in _bootstrap\n",
      "    self.run()\n",
      "  File \"/home/erick/anaconda3/lib/python3.7/multiprocessing/process.py\", line 99, in run\n",
      "    self._target(*self._args, **self._kwargs)\n",
      "  File \"/home/erick/anaconda3/lib/python3.7/multiprocessing/pool.py\", line 121, in worker\n",
      "    result = (True, func(*args, **kwds))\n",
      "  File \"/tmp/ipykernel_7208/1931169414.py\", line 15, in positions_batch\n",
      "    GS = f.zGradientStack(IM).astype('float32')\n",
      "  File \"/home/erick/Documents/PhD/Holography-Code/Code/functions.py\", line 281, in zGradientStack\n",
      "    GS = ndimage.convolve(IMM, SZ, mode='mirror')\n",
      "  File \"/home/erick/anaconda3/lib/python3.7/site-packages/scipy/ndimage/filters.py\", line 859, in convolve\n",
      "    origin, True)\n",
      "  File \"/home/erick/anaconda3/lib/python3.7/site-packages/scipy/ndimage/filters.py\", line 686, in _correlate_or_convolve\n",
      "    _nd_image.correlate(input, weights, output, mode, cval, origins)\n",
      "KeyboardInterrupt\n"
     ]
    }
   ],
   "source": [
    "data = []\n",
    "# times = []\n",
    "for k in range(len(PATH)): \n",
    "    VID = f.videoImport(PATH[k], 0)\n",
    "    ni, nj, nk = np.shape(VID)\n",
    "    \n",
    "    \n",
    "    invert = False\n",
    "    if invert:\n",
    "        for i in range(nk):\n",
    "            VID[:, :, i] = VID[:, :, i].max() - VID[:, :, i]\n",
    "\n",
    "    FRAMES_MEDIAN = 20\n",
    "    I_MEDIAN = f.medianImage(VID, FRAMES_MEDIAN)\n",
    "    # I_MEDIAN = np.ones((VID.shape[0], VID.shape[1]))\n",
    "\n",
    "    NUM_FRAMES = nk\n",
    "    IT = np.empty((NUM_FRAMES), dtype=object)\n",
    "    MED = np.empty((NUM_FRAMES), dtype=object)\n",
    "    n = np.empty((NUM_FRAMES), dtype=object)\n",
    "    lam = np.empty((NUM_FRAMES), dtype=object)\n",
    "    mpp = np.empty((NUM_FRAMES), dtype=object)\n",
    "    sz = np.empty((NUM_FRAMES), dtype=object)\n",
    "    numsteps = np.empty((NUM_FRAMES), dtype=object)\n",
    "    threshold = np.empty((NUM_FRAMES), dtype=object)\n",
    "    \n",
    "    for i in range(NUM_FRAMES):\n",
    "        IT[i] = VID[:, :, i]\n",
    "        MED[i] = I_MEDIAN\n",
    "        n[i] = N[k]\n",
    "        lam[i] = LAMBDA[k]\n",
    "        mpp[i] = MPP[k]\n",
    "        sz[i] = SZ[k]\n",
    "        numsteps[i] = NUMSTEPS[k]\n",
    "        threshold[i] = THRESHOLD[k]\n",
    "    \n",
    "    pool = Pool(cpu_count())\n",
    "    results = []\n",
    "#     T0 = time.time()\n",
    "    for _ in tqdm(pool.imap_unordered(positions_batch, zip(IT, MED, n, lam, mpp, sz, numsteps, threshold)), \n",
    "                  total=NUM_FRAMES):\n",
    "        results.append(_)\n",
    "    \n",
    "    POSITIONS = pd.DataFrame(columns=['X', 'Y', 'Z', 'I_FS', 'I_GS', 'FRAME', 'TIME'])\n",
    "    for i in range(NUM_FRAMES):\n",
    "\n",
    "        X = results[i][0][0]\n",
    "        Y = results[i][1][0]\n",
    "        Z = results[i][2][0]\n",
    "        I_FS = results[i][3][0]\n",
    "        I_GS = results[i][4][0]\n",
    "        FRAME = i*np.ones_like(results[i][0][0])\n",
    "        TIME = i*np.ones_like(results[i][0][0])\n",
    "        \n",
    "        DATA = np.concatenate((np.expand_dims(X, axis=1), \n",
    "                               np.expand_dims(Y, axis=1), \n",
    "                               np.expand_dims(Z, axis=1), \n",
    "                               np.expand_dims(I_FS, axis=1), \n",
    "                               np.expand_dims(I_GS, axis=1), \n",
    "                               np.expand_dims(FRAME, axis=1), \n",
    "                               np.expand_dims(FRAME*(1/FRAME_RATE), axis=1)), \n",
    "                              axis=1)\n",
    "        POSITIONS = POSITIONS.append(pd.DataFrame(DATA, \n",
    "                                                  columns=['X', 'Y', 'Z', 'I_FS', 'I_GS', 'FRAME', 'TIME']))\n",
    "        \n",
    "        if export[k]:\n",
    "            path = os.path.split(PATH[k])[:-1][0]\n",
    "            pp = os.path.split(PATH[k])[-1][:-4]\n",
    "            expath = path+'/'+pp+'_TH'+str(THRESHOLD[k])+'_PMD'+str(PMD[k])+'_SZ'+str(SZ[k])+str(NUMSTEPS[k])+'test.csv'\n",
    "            POSITIONS.to_csv(expath)\n",
    "            print('Exported to: \\n', expath)\n",
    "            \n",
    "    \n",
    "#     T = time.time - T0\n",
    "#     times.append(T)\n",
    "    data.append(POSITIONS)\n"
   ]
  },
  {
   "cell_type": "code",
   "execution_count": 17,
   "id": "747c755a-a965-4cba-a989-9baa5b80f268",
   "metadata": {},
   "outputs": [
    {
     "name": "stdout",
     "output_type": "stream",
     "text": [
      "Exported to: \n",
      " /media/erick/NuevoVol/LINUX_LAP/PhD/Colloids/20x_50Hz_100us_642nm_colloids_2000frames_TH0.1_PMD40_SZ2.5test.csv\n"
     ]
    }
   ],
   "source": [
    "print('Exported to: \\n', expath)"
   ]
  },
  {
   "cell_type": "markdown",
   "id": "5d311fc3",
   "metadata": {},
   "source": [
    "## Scatter plot"
   ]
  },
  {
   "cell_type": "code",
   "execution_count": 15,
   "id": "0c9f5c96",
   "metadata": {},
   "outputs": [],
   "source": [
    "import easygui as gui\n",
    "import pandas as pd\n",
    "from mpl_toolkits.mplot3d import Axes3D\n",
    "from matplotlib import pyplot\n",
    "# %matplotlib qt\n",
    "%matplotlib inline\n",
    "\n",
    "\n",
    "# path = easygui.fileopenbox(default='/media/erick/NuevoVol/LINUX_LAP/', multiple=False)\n",
    "# path = gui.fileopenbox()\n",
    "# POSITIONS = pd.read_csv(path)\n",
    "POSITIONS = data[2]\n",
    "\n",
    "X = POSITIONS.X\n",
    "Y = POSITIONS.Y\n",
    "Z = POSITIONS.Z\n",
    "T = POSITIONS.TIME\n",
    "\n",
    "fig = pyplot.figure(figsize=(5, 5))\n",
    "ax = pyplot.axes(projection='3d')\n",
    "\n",
    "ax.scatter(X, Y, Z, s=5, marker='o', c=T)\n",
    "ax.tick_params(axis='both', labelsize=10)\n",
    "ax.set_title('Cells Positions in 3D', fontsize='20')\n",
    "ax.set_xlabel('x (um)', fontsize='18')\n",
    "ax.set_ylabel('y (um)', fontsize='18')\n",
    "ax.set_zlabel('z (um)', fontsize='18')\n",
    "\n",
    "pyplot.show()\n"
   ]
  }
 ],
 "metadata": {
  "interpreter": {
   "hash": "88a2286df253650327a6124dbee93aa2083269da6bd3bc65348e4014d968596c"
  },
  "kernelspec": {
   "display_name": "Python 3",
   "language": "python",
   "name": "python3"
  },
  "language_info": {
   "codemirror_mode": {
    "name": "ipython",
    "version": 3
   },
   "file_extension": ".py",
   "mimetype": "text/x-python",
   "name": "python",
   "nbconvert_exporter": "python",
   "pygments_lexer": "ipython3",
   "version": "3.7.7"
  }
 },
 "nbformat": 4,
 "nbformat_minor": 5
}
