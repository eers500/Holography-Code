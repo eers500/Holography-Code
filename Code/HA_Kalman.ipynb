{
 "cells": [
  {
   "cell_type": "code",
   "execution_count": 23,
   "metadata": {},
   "outputs": [],
   "source": [
    "%matplotlib notebook\n",
    "import matplotlib as mpl\n",
    "import mpld3\n",
    "import numpy as np\n",
    "import pandas as pd\n",
    "import matplotlib.pyplot as plt \n",
    "mpl.rc('figure',  figsize=(10, 6))\n",
    "import functions as f\n",
    "import sklearn.cluster as cl\n",
    "import time\n",
    "import easygui as gui\n",
    "import hdbscan\n",
    "from scipy.optimize import linear_sum_assignment\n",
    "from hungarian_algorithm import algorithm\n",
    "from pykalman import KalmanFilter\n",
    "\n",
    "# Import tracks\n",
    "PATH = gui.fileopenbox(default='/media/erick/NuevoVol/LINUX_LAP/PhD/')\n",
    "DF = pd.read_csv(PATH, index_col=0)\n",
    "DF['Time'] = DF['FRAME']*(1/50)\n",
    "DF.index = np.arange(len(DF))\n",
    "D = DF.values"
   ]
  },
  {
   "cell_type": "code",
   "execution_count": null,
   "metadata": {},
   "outputs": [],
   "source": [
    "number_of_particles = DF['PARTICLE'].unique() len(number_of_particles)"
   ]
  },
  {
   "cell_type": "code",
   "execution_count": 58,
   "metadata": {},
   "outputs": [
    {
     "data": {
      "text/plain": [
       "232199"
      ]
     },
     "execution_count": 58,
     "metadata": {},
     "output_type": "execute_result"
    }
   ],
   "source": [
    "velocity = np.array(0)\n",
    "for particle in number_of_particles:\n",
    "    track = DF[DF.PARTICLE == particle]\n",
    "    #track.head(5)\n",
    "\n",
    "    vel = np.sqrt(np.diff(track['X'])**2 + np.diff(track['Y'])**2 + np.diff(track['Z'])**2)/0.02 * (1.4064/20) \n",
    "    #_ = plt.hist(velocity[1:], bins=256)\n",
    "    #velocity.append(vel)\n",
    "    velocity = np.append(velocity, vel)\n",
    "\n",
    "len(velocity)"
   ]
  },
  {
   "cell_type": "code",
   "execution_count": 61,
   "metadata": {},
   "outputs": [],
   "source": [
    "_ = plt.hist(velocity)"
   ]
  },
  {
   "cell_type": "code",
   "execution_count": 3,
   "metadata": {},
   "outputs": [],
   "source": [
    "PATH = gui.fileopenbox(default='/media/erick/NuevoVol/LINUX_LAP/PhD/')\n",
    "LINKED = pd.read_csv(PATH, index_col=0)\n",
    "#LINKED.index = np.arange(len(DF))\n",
    "LINKED['Time'] = LINKED['FRAME']*(1/50)\n",
    "LINKED_vals = DF.values"
   ]
  },
  {
   "cell_type": "code",
   "execution_count": 4,
   "metadata": {},
   "outputs": [
    {
     "data": {
      "text/html": [
       "<div>\n",
       "<style scoped>\n",
       "    .dataframe tbody tr th:only-of-type {\n",
       "        vertical-align: middle;\n",
       "    }\n",
       "\n",
       "    .dataframe tbody tr th {\n",
       "        vertical-align: top;\n",
       "    }\n",
       "\n",
       "    .dataframe thead th {\n",
       "        text-align: right;\n",
       "    }\n",
       "</style>\n",
       "<table border=\"1\" class=\"dataframe\">\n",
       "  <thead>\n",
       "    <tr style=\"text-align: right;\">\n",
       "      <th></th>\n",
       "      <th>X</th>\n",
       "      <th>Y</th>\n",
       "      <th>Z</th>\n",
       "      <th>I_FS</th>\n",
       "      <th>I_GS</th>\n",
       "      <th>FRAME</th>\n",
       "      <th>Time</th>\n",
       "    </tr>\n",
       "  </thead>\n",
       "  <tbody>\n",
       "    <tr>\n",
       "      <th>0</th>\n",
       "      <td>489.0</td>\n",
       "      <td>221.0</td>\n",
       "      <td>28.0</td>\n",
       "      <td>1.003677</td>\n",
       "      <td>0.293763</td>\n",
       "      <td>0.0</td>\n",
       "      <td>0.00</td>\n",
       "    </tr>\n",
       "    <tr>\n",
       "      <th>1</th>\n",
       "      <td>488.0</td>\n",
       "      <td>435.0</td>\n",
       "      <td>88.0</td>\n",
       "      <td>1.005026</td>\n",
       "      <td>0.261628</td>\n",
       "      <td>0.0</td>\n",
       "      <td>0.00</td>\n",
       "    </tr>\n",
       "    <tr>\n",
       "      <th>2</th>\n",
       "      <td>484.0</td>\n",
       "      <td>35.0</td>\n",
       "      <td>70.0</td>\n",
       "      <td>1.002477</td>\n",
       "      <td>0.333036</td>\n",
       "      <td>0.0</td>\n",
       "      <td>0.00</td>\n",
       "    </tr>\n",
       "    <tr>\n",
       "      <th>3</th>\n",
       "      <td>483.0</td>\n",
       "      <td>485.0</td>\n",
       "      <td>86.0</td>\n",
       "      <td>1.011092</td>\n",
       "      <td>0.000000</td>\n",
       "      <td>0.0</td>\n",
       "      <td>0.00</td>\n",
       "    </tr>\n",
       "    <tr>\n",
       "      <th>4</th>\n",
       "      <td>479.0</td>\n",
       "      <td>385.0</td>\n",
       "      <td>26.0</td>\n",
       "      <td>1.001981</td>\n",
       "      <td>0.376885</td>\n",
       "      <td>0.0</td>\n",
       "      <td>0.00</td>\n",
       "    </tr>\n",
       "    <tr>\n",
       "      <th>...</th>\n",
       "      <td>...</td>\n",
       "      <td>...</td>\n",
       "      <td>...</td>\n",
       "      <td>...</td>\n",
       "      <td>...</td>\n",
       "      <td>...</td>\n",
       "      <td>...</td>\n",
       "    </tr>\n",
       "    <tr>\n",
       "      <th>128</th>\n",
       "      <td>27.0</td>\n",
       "      <td>367.0</td>\n",
       "      <td>5.0</td>\n",
       "      <td>1.015413</td>\n",
       "      <td>0.000000</td>\n",
       "      <td>1999.0</td>\n",
       "      <td>39.98</td>\n",
       "    </tr>\n",
       "    <tr>\n",
       "      <th>129</th>\n",
       "      <td>24.0</td>\n",
       "      <td>167.0</td>\n",
       "      <td>61.0</td>\n",
       "      <td>0.993747</td>\n",
       "      <td>0.254755</td>\n",
       "      <td>1999.0</td>\n",
       "      <td>39.98</td>\n",
       "    </tr>\n",
       "    <tr>\n",
       "      <th>130</th>\n",
       "      <td>23.0</td>\n",
       "      <td>114.0</td>\n",
       "      <td>22.0</td>\n",
       "      <td>1.018134</td>\n",
       "      <td>0.000000</td>\n",
       "      <td>1999.0</td>\n",
       "      <td>39.98</td>\n",
       "    </tr>\n",
       "    <tr>\n",
       "      <th>131</th>\n",
       "      <td>21.0</td>\n",
       "      <td>388.0</td>\n",
       "      <td>72.0</td>\n",
       "      <td>0.987775</td>\n",
       "      <td>0.367044</td>\n",
       "      <td>1999.0</td>\n",
       "      <td>39.98</td>\n",
       "    </tr>\n",
       "    <tr>\n",
       "      <th>132</th>\n",
       "      <td>21.0</td>\n",
       "      <td>300.0</td>\n",
       "      <td>29.0</td>\n",
       "      <td>1.007413</td>\n",
       "      <td>0.383197</td>\n",
       "      <td>1999.0</td>\n",
       "      <td>39.98</td>\n",
       "    </tr>\n",
       "  </tbody>\n",
       "</table>\n",
       "<p>262289 rows × 7 columns</p>\n",
       "</div>"
      ],
      "text/plain": [
       "         X      Y     Z      I_FS      I_GS   FRAME   Time\n",
       "0    489.0  221.0  28.0  1.003677  0.293763     0.0   0.00\n",
       "1    488.0  435.0  88.0  1.005026  0.261628     0.0   0.00\n",
       "2    484.0   35.0  70.0  1.002477  0.333036     0.0   0.00\n",
       "3    483.0  485.0  86.0  1.011092  0.000000     0.0   0.00\n",
       "4    479.0  385.0  26.0  1.001981  0.376885     0.0   0.00\n",
       "..     ...    ...   ...       ...       ...     ...    ...\n",
       "128   27.0  367.0   5.0  1.015413  0.000000  1999.0  39.98\n",
       "129   24.0  167.0  61.0  0.993747  0.254755  1999.0  39.98\n",
       "130   23.0  114.0  22.0  1.018134  0.000000  1999.0  39.98\n",
       "131   21.0  388.0  72.0  0.987775  0.367044  1999.0  39.98\n",
       "132   21.0  300.0  29.0  1.007413  0.383197  1999.0  39.98\n",
       "\n",
       "[262289 rows x 7 columns]"
      ]
     },
     "execution_count": 4,
     "metadata": {},
     "output_type": "execute_result"
    }
   ],
   "source": [
    "LINKED"
   ]
  },
  {
   "cell_type": "code",
   "execution_count": 8,
   "metadata": {},
   "outputs": [
    {
     "data": {
      "text/plain": [
       "array([ 581.41740259, 1047.51120998, 1177.94677647, ...,  172.15983253,\n",
       "        728.63935968,  256.22114161])"
      ]
     },
     "execution_count": 8,
     "metadata": {},
     "output_type": "execute_result"
    }
   ],
   "source": [
    "velocity = np.sqrt(np.diff(LINKED['X'])**2 + np.diff(LINKED['Y'])**2 + np.diff(LINKED['Z'])**2) * (0.05232/0.02) \n",
    "#_ = plt.hist(velocity, bins=256)\n",
    "velocity"
   ]
  },
  {
   "cell_type": "code",
   "execution_count": null,
   "metadata": {},
   "outputs": [],
   "source": [
    "np.sqrt((488-489)**2 + (435-221)**2 + (88-28)**2) * (0.0703/0.02)"
   ]
  },
  {
   "cell_type": "code",
   "execution_count": 6,
   "metadata": {},
   "outputs": [
    {
     "data": {
      "text/plain": [
       "28.128"
      ]
     },
     "execution_count": 6,
     "metadata": {},
     "output_type": "execute_result"
    }
   ],
   "source": [
    "1.4064*20"
   ]
  },
  {
   "cell_type": "code",
   "execution_count": null,
   "metadata": {},
   "outputs": [],
   "source": [
    "kf = KalmanFilter(initial_state_mean=0, n_dim_obs=2)\n",
    "kf"
   ]
  }
 ],
 "metadata": {
  "kernelspec": {
   "display_name": "Python 3.7.6 64-bit ('anaconda3': virtualenv)",
   "language": "python",
   "name": "python37664bitanaconda3virtualenv2dd5cbc386034cf982a18c7c973e5f38"
  },
  "language_info": {
   "codemirror_mode": {
    "name": "ipython",
    "version": 3
   },
   "file_extension": ".py",
   "mimetype": "text/x-python",
   "name": "python",
   "nbconvert_exporter": "python",
   "pygments_lexer": "ipython3",
   "version": "3.7.9"
  }
 },
 "nbformat": 4,
 "nbformat_minor": 4
}
